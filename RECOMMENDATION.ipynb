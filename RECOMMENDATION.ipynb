{
  "nbformat": 4,
  "nbformat_minor": 0,
  "metadata": {
    "colab": {
      "provenance": [],
      "authorship_tag": "ABX9TyNOezk1xkpPoCmYabSnBRt0",
      "include_colab_link": true
    },
    "kernelspec": {
      "name": "python3",
      "display_name": "Python 3"
    },
    "language_info": {
      "name": "python"
    }
  },
  "cells": [
    {
      "cell_type": "markdown",
      "metadata": {
        "id": "view-in-github",
        "colab_type": "text"
      },
      "source": [
        "<a href=\"https://colab.research.google.com/github/Mughal72/Book_Website/blob/main/RECOMMENDATION.ipynb\" target=\"_parent\"><img src=\"https://colab.research.google.com/assets/colab-badge.svg\" alt=\"Open In Colab\"/></a>"
      ]
    },
    {
      "cell_type": "code",
      "source": [
        "import pandas as pd\n",
        "import numpy as np\n",
        "from surprise import Dataset, Reader, KNNBasic\n",
        "from surprise.model_selection import train_test_split\n",
        "\n",
        "\n",
        "# Load the book dataset\n",
        "book_df = pd.read_csv(\"/content/books.csv\", encoding= 'latin-1')\n",
        "\n",
        "# Load the user dataset\n",
        "user_df = pd.read_csv(\"/content/users.csv\")\n",
        "\n",
        "# Prepare the data for Surprise library\n",
        "reader = Reader(rating_scale=(1, 5))\n",
        "data = Dataset.load_from_df(user_df[['User-ID', 'ISBN', 'Ratings']], reader)\n",
        "\n",
        "# Split the data into train and test sets\n",
        "trainset, testset = train_test_split(data, test_size=0.2, random_state=42)\n",
        "\n",
        "# Build the collaborative filtering model\n",
        "model = KNNBasic(k=5, min_k=1)\n",
        "model.fit(trainset)\n",
        "\n",
        "# Get book recommendations for a specific user\n",
        "user_id = 'amina'  # Replace with the actual user ID\n",
        "user_items = user_df.loc[user_df['User-ID'] == user_id, 'ISBN']\n",
        "user_unrated_books = [book for book in book_df['ISBN'] if book not in user_items]\n",
        "predictions = [model.predict(user_id, book) for book in user_unrated_books]\n",
        "recommendations = sorted(predictions, key=lambda x: x.est, reverse=True)[:10]\n",
        "\n",
        "# Print the recommended books\n",
        "print(\"Top 10 recommended books for User\", user_id)\n",
        "for rec in recommendations:\n",
        "    book_title = book_df.loc[book_df['ISBN'] == rec.iid, 'Book-Title'].values[0]\n",
        "    print(f\"- {book_title} (Estimated rating: {rec.est})\")"
      ],
      "metadata": {
        "colab": {
          "base_uri": "https://localhost:8080/"
        },
        "id": "gaY2gmBIDUur",
        "outputId": "fbfdd5fe-000b-4939-ffa3-80746832d4c2"
      },
      "execution_count": null,
      "outputs": [
        {
          "output_type": "stream",
          "name": "stdout",
          "text": [
            "Computing the msd similarity matrix...\n",
            "Done computing similarity matrix.\n",
            "Top 10 recommended books for User amina\n",
            "- Artificial Intelligence: A Modern Approach (Estimated rating: 3.3)\n",
            "- Deep Learning (Estimated rating: 3.3)\n",
            "- Artificial Intelligence: A Modern Approach 3rd Edition (Estimated rating: 3.3)\n",
            "- Neural Networks and Deep Learning (Estimated rating: 3.3)\n",
            "- Python Machine Learning - Second Edition: Machine Learning and Deep Learning with Python, scikit-learn, and TensorFlow 2nd Edition (Estimated rating: 3.3)\n",
            "- Reinforcement Learning: An Introduction (Adaptive Computation and Machine Learning) (Adaptive Computation and Machine Learning series) second edition (Estimated rating: 3.3)\n",
            "- The Master Algorithm: How the Quest for the Ultimate Learning Machine Will Remake Our World (Estimated rating: 3.3)\n",
            "- Hands-On Machine Learning with Scikit-Learn and TensorFlow (Estimated rating: 3.3)\n",
            "- Machine Learning for Absolute Beginners (Estimated rating: 3.3)\n",
            "- Introduction to Artificial Intelligence and Expert Systems (Estimated rating: 3.3)\n"
          ]
        }
      ]
    },
    {
      "cell_type": "markdown",
      "source": [
        "**This code snippet demonstrates the implementation of a collaborative filtering recommendation system using the Surprise library.**\n",
        "\n",
        "Preparing the Data for Surprise: The user dataset is transformed into the required format for the Surprise library using the Reader and Dataset classes. The Reader defines the rating scale, and the Dataset loads the data from the user dataset.\n",
        "\n",
        "Splitting the Data: The data is split into training and test sets using the train_test_split function from Surprise. The training set (trainset) is used to train the collaborative filtering model, while the test set (testset) is used to evaluate the model's performance.\n",
        "\n",
        "Building the Collaborative Filtering Model: The collaborative filtering model is built using the KNNBasic algorithm from Surprise. The k parameter determines the number of neighbors to consider, and min_k specifies the minimum number of neighbors required for a prediction.\n",
        "\n",
        "Generating Book Recommendations: The code specifies a target user ID (user_id) for which book recommendations are generated. It collects the books the user has not yet rated from the book dataset. The predict method of the model is used to estimate ratings for the unrated books. The top-rated books are sorted and stored in the recommendations list."
      ],
      "metadata": {
        "id": "ycezajgzJoVr"
      }
    }
  ]
}