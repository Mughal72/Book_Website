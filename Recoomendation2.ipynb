{
  "nbformat": 4,
  "nbformat_minor": 0,
  "metadata": {
    "colab": {
      "provenance": [],
      "authorship_tag": "ABX9TyMbjv90NCShVgVO0Y6Z0+nV",
      "include_colab_link": true
    },
    "kernelspec": {
      "name": "python3",
      "display_name": "Python 3"
    },
    "language_info": {
      "name": "python"
    }
  },
  "cells": [
    {
      "cell_type": "markdown",
      "metadata": {
        "id": "view-in-github",
        "colab_type": "text"
      },
      "source": [
        "<a href=\"https://colab.research.google.com/github/Mughal72/Book_Website/blob/main/Recoomendation2.ipynb\" target=\"_parent\"><img src=\"https://colab.research.google.com/assets/colab-badge.svg\" alt=\"Open In Colab\"/></a>"
      ]
    },
    {
      "cell_type": "code",
      "execution_count": 1,
      "metadata": {
        "id": "KnKFYCNzAP27"
      },
      "outputs": [],
      "source": [
        "# Importing necessary library\n",
        "import pandas as pd\n",
        "import numpy as np\n",
        "import matplotlib.pyplot as plt\n",
        "import seaborn as sns"
      ]
    },
    {
      "cell_type": "code",
      "source": [
        "pip install surprise"
      ],
      "metadata": {
        "colab": {
          "base_uri": "https://localhost:8080/"
        },
        "id": "sdswcVSMvi70",
        "outputId": "2bafdbb0-5263-4de7-b929-ee976a15572e"
      },
      "execution_count": 2,
      "outputs": [
        {
          "output_type": "stream",
          "name": "stdout",
          "text": [
            "Collecting surprise\n",
            "  Downloading surprise-0.1-py2.py3-none-any.whl (1.8 kB)\n",
            "Collecting scikit-surprise (from surprise)\n",
            "  Downloading scikit-surprise-1.1.3.tar.gz (771 kB)\n",
            "\u001b[?25l     \u001b[90m━━━━━━━━━━━━━━━━━━━━━━━━━━━━━━━━━━━━━━━━\u001b[0m \u001b[32m0.0/772.0 kB\u001b[0m \u001b[31m?\u001b[0m eta \u001b[36m-:--:--\u001b[0m\r\u001b[2K     \u001b[91m━━━━━━━━━━━━━━━━━\u001b[0m\u001b[90m╺\u001b[0m\u001b[90m━━━━━━━━━━━━━━━━━━━━━\u001b[0m \u001b[32m337.9/772.0 kB\u001b[0m \u001b[31m9.9 MB/s\u001b[0m eta \u001b[36m0:00:01\u001b[0m\r\u001b[2K     \u001b[90m━━━━━━━━━━━━━━━━━━━━━━━━━━━━━━━━━━━━━━\u001b[0m \u001b[32m772.0/772.0 kB\u001b[0m \u001b[31m13.6 MB/s\u001b[0m eta \u001b[36m0:00:00\u001b[0m\n",
            "\u001b[?25h  Preparing metadata (setup.py) ... \u001b[?25l\u001b[?25hdone\n",
            "Requirement already satisfied: joblib>=1.0.0 in /usr/local/lib/python3.10/dist-packages (from scikit-surprise->surprise) (1.2.0)\n",
            "Requirement already satisfied: numpy>=1.17.3 in /usr/local/lib/python3.10/dist-packages (from scikit-surprise->surprise) (1.22.4)\n",
            "Requirement already satisfied: scipy>=1.3.2 in /usr/local/lib/python3.10/dist-packages (from scikit-surprise->surprise) (1.10.1)\n",
            "Building wheels for collected packages: scikit-surprise\n",
            "  Building wheel for scikit-surprise (setup.py) ... \u001b[?25l\u001b[?25hdone\n",
            "  Created wheel for scikit-surprise: filename=scikit_surprise-1.1.3-cp310-cp310-linux_x86_64.whl size=3096327 sha256=6814c02d5287a48a8234700f408c4d4bb8a867e07b966faaace1bf7634690973\n",
            "  Stored in directory: /root/.cache/pip/wheels/a5/ca/a8/4e28def53797fdc4363ca4af740db15a9c2f1595ebc51fb445\n",
            "Successfully built scikit-surprise\n",
            "Installing collected packages: scikit-surprise, surprise\n",
            "Successfully installed scikit-surprise-1.1.3 surprise-0.1\n"
          ]
        }
      ]
    },
    {
      "cell_type": "code",
      "source": [
        "ratings = pd.read_csv('/content/ratings.csv', encoding='utf-8-sig')\n"
      ],
      "metadata": {
        "id": "n_T_Uz5TCCdn"
      },
      "execution_count": null,
      "outputs": []
    },
    {
      "cell_type": "code",
      "source": [
        "import pandas as pd\n",
        "from surprise import Dataset, Reader, KNNBasic\n",
        "from sklearn.metrics.pairwise import cosine_similarity\n",
        "# Load the book dataset\n",
        "books_df = pd.read_csv('/content/books.csv', encoding='latin-1')\n",
        "\n",
        "# Load the users dataset\n",
        "users_df = pd.read_csv('/content/users.csv',  encoding='latin-1')\n",
        "\n",
        "# Create a user-item matrix\n",
        "user_item_matrix = users_df.pivot_table(index='User-ID', columns='ISBN', values='Ratings')\n",
        "\n",
        "# Fill missing values with 0\n",
        "user_item_matrix = user_item_matrix.fillna(0)\n",
        "\n",
        "# Compute the cosine similarity matrix\n",
        "similarity_matrix = cosine_similarity(user_item_matrix)\n",
        "\n",
        "# Define a function to get top N similar users\n",
        "def get_similar_users(user_id, similarity_matrix, k=5):\n",
        "    user_index = user_item_matrix.index.get_loc(user_id)\n",
        "    user_similarity = similarity_matrix[user_index]\n",
        "    similar_users_indices = user_similarity.argsort()[::-1][1:k+1]\n",
        "    similar_users = user_item_matrix.index[similar_users_indices]\n",
        "    return similar_users\n",
        "\n",
        "# Define a function to get top N book recommendations for a user\n",
        "def get_recommendations(user_id, similar_users, user_item_matrix, k=5):\n",
        "    user_index = user_item_matrix.index.get_loc(user_id)\n",
        "    user_ratings = user_item_matrix.iloc[user_index]\n",
        "    user_unrated_books = user_ratings[user_ratings == 0]\n",
        "    recommendations = user_unrated_books.sample(n=k, random_state=42)\n",
        "    return recommendations.index.tolist()\n",
        "\n",
        "# Example usage\n",
        "target_user_id = 'Alexa'\n",
        "similar_users = get_similar_users(target_user_id, similarity_matrix)\n",
        "recommendations = get_recommendations(target_user_id, similar_users, user_item_matrix)\n",
        "\n",
        "# Print the recommendations\n",
        "#print(f\"Top recommended books for User ID {target_user_id}:\")\n",
        "#for book_id in recommendations:\n",
        " #   book_title = books_df.loc[books_df['ISBN'] == book_id, 'Book-Title'].values\n",
        "  #  if len(book_title) > 0:\n",
        "   #     print(book_title[0])\n",
        "    #else:\n",
        "     #   print(f\"No book found with ISBN {book_id}\")\n",
        "\n",
        "print(f\"Top recommended books for User ID {target_user_id}:\")\n",
        "for book_id in recommendations:\n",
        "    book_title = books_df.loc[books_df['ISBN'] == book_id, 'Book-Title'].values\n",
        "    if len(book_title) > 0:\n",
        "        print(book_title[0])"
      ],
      "metadata": {
        "colab": {
          "base_uri": "https://localhost:8080/"
        },
        "id": "5W0iE_0QyWtb",
        "outputId": "96318f30-cb93-419b-c887-ca77e1db534d"
      },
      "execution_count": 36,
      "outputs": [
        {
          "output_type": "stream",
          "name": "stdout",
          "text": [
            "Top recommended books for User ID Alexa:\n",
            "Artificial Intelligence and Machine Learning for Business\n",
            "Machine Learning with R (Expert techniques for predictive modelling) \n",
            "Broken Leaves \n",
            "Artificial Intelligence and Machine Learning\n"
          ]
        }
      ]
    }
  ]
}